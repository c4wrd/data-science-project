{
 "cells": [
  {
   "cell_type": "code",
   "execution_count": 1,
   "metadata": {
    "collapsed": true
   },
   "outputs": [],
   "source": [
    "import pymysql\n",
    "import pandas as pd\n",
    "%matplotlib inline"
   ]
  },
  {
   "cell_type": "code",
   "execution_count": 2,
   "metadata": {
    "collapsed": true
   },
   "outputs": [],
   "source": [
    "connection = pymysql.connect(\n",
    "    host=\"server.cory.sh\",\n",
    "    user=\"csci440\",\n",
    "    password=\"\",\n",
    "    db=\"imdb\",\n",
    "    cursorclass=pymysql.cursors.DictCursor\n",
    ")"
   ]
  },
  {
   "cell_type": "code",
   "execution_count": 3,
   "metadata": {
    "collapsed": true
   },
   "outputs": [],
   "source": [
    "cursor = connection.cursor()"
   ]
  },
  {
   "cell_type": "code",
   "execution_count": 4,
   "metadata": {},
   "outputs": [
    {
     "data": {
      "text/plain": [
       "29012"
      ]
     },
     "execution_count": 4,
     "metadata": {},
     "output_type": "execute_result"
    }
   ],
   "source": [
    "sql = \"\"\"\n",
    "SELECT \n",
    "    genre, keyword, count(*) as count\n",
    "FROM\n",
    "    TitleGenre,\n",
    "    Top5000MovieKeywords\n",
    "WHERE\n",
    "    Top5000MovieKeywords.movieId = TitleGenre.titleId\n",
    "GROUP BY genre, keyword;\n",
    "\"\"\"\n",
    "cursor.execute(sql)"
   ]
  },
  {
   "cell_type": "code",
   "execution_count": 7,
   "metadata": {
    "collapsed": true
   },
   "outputs": [],
   "source": [
    "items = cursor.fetchall()"
   ]
  },
  {
   "cell_type": "code",
   "execution_count": 8,
   "metadata": {
    "collapsed": true
   },
   "outputs": [],
   "source": [
    "keyword_total = {}\n",
    "for row in items:\n",
    "    genre = row['genre']\n",
    "    keyword = row['keyword']\n",
    "    count = row['count']\n",
    "    if genre not in keyword_total:\n",
    "        keyword_total[genre] = {}\n",
    "    keyword_total[genre][keyword] = count"
   ]
  },
  {
   "cell_type": "code",
   "execution_count": 9,
   "metadata": {
    "collapsed": true
   },
   "outputs": [],
   "source": [
    "def top_10(keywords):\n",
    "    sorted_top = sorted(keywords.items(), key=lambda item: item[1], reverse=True)\n",
    "    return sorted_top[:10]"
   ]
  },
  {
   "cell_type": "code",
   "execution_count": 10,
   "metadata": {
    "collapsed": true
   },
   "outputs": [],
   "source": [
    "def get_class_probabilities(keyword):\n",
    "    totals = []\n",
    "    for genre in keyword_total.keys():\n",
    "        if keyword in keyword_total[genre]:\n",
    "            totals.append(keyword_total[genre][keyword])\n",
    "        else:\n",
    "            totals.append(0)\n",
    "    total = sum(totals)\n",
    "    return_probabilities = {}\n",
    "    for i, genre in zip(range(len(keyword_total.keys())), keyword_total.keys()):\n",
    "        if total == 0:\n",
    "            return_probabilities[genre] = 0\n",
    "        else:\n",
    "            return_probabilities[genre] = totals[i] / total\n",
    "    return return_probabilities"
   ]
  },
  {
   "cell_type": "code",
   "execution_count": 12,
   "metadata": {},
   "outputs": [],
   "source": [
    "top_10_list = {}\n",
    "for genre in keyword_total.keys():\n",
    "    top_10_list[genre] = top_10(keyword_total[genre])"
   ]
  },
  {
   "cell_type": "code",
   "execution_count": 13,
   "metadata": {},
   "outputs": [
    {
     "data": {
      "text/plain": [
       "{'action': [('police', 48),\n",
       "  ('murder', 40),\n",
       "  ('alien', 36),\n",
       "  ('battle', 31),\n",
       "  ('fbi', 31),\n",
       "  ('terrorist', 31),\n",
       "  ('assassin', 30),\n",
       "  ('prison', 30),\n",
       "  ('rescue', 29),\n",
       "  ('death', 28)],\n",
       " 'adventure': [('alien', 36),\n",
       "  ('king', 29),\n",
       "  ('island', 24),\n",
       "  ('rescue', 24),\n",
       "  ('friend', 21),\n",
       "  ('escape', 20),\n",
       "  ('planet', 19),\n",
       "  ('princess', 19),\n",
       "  ('battle', 17),\n",
       "  ('revenge', 17)],\n",
       " 'animation': [('dog', 11),\n",
       "  ('princess', 11),\n",
       "  ('friend', 10),\n",
       "  ('alien', 9),\n",
       "  ('robot', 8),\n",
       "  ('monster', 7),\n",
       "  ('boy', 6),\n",
       "  ('escape', 6),\n",
       "  ('rescue', 6),\n",
       "  ('animal', 5)],\n",
       " 'biography': [('love', 16),\n",
       "  ('based on true story', 12),\n",
       "  ('singer', 11),\n",
       "  ('coach', 9),\n",
       "  ('friendship', 9),\n",
       "  ('1960s', 7),\n",
       "  ('1970s', 6),\n",
       "  ('boxing', 6),\n",
       "  ('fbi', 6),\n",
       "  ('president', 6)],\n",
       " 'comedy': [('friend', 91),\n",
       "  ('love', 80),\n",
       "  ('high school', 47),\n",
       "  ('new york city', 43),\n",
       "  ('wedding', 43),\n",
       "  ('marriage', 38),\n",
       "  ('friendship', 37),\n",
       "  ('dog', 36),\n",
       "  ('murder', 33),\n",
       "  ('school', 33)],\n",
       " 'crime': [('murder', 81),\n",
       "  ('police', 65),\n",
       "  ('fbi', 48),\n",
       "  ('death', 33),\n",
       "  ('drugs', 33),\n",
       "  ('prison', 33),\n",
       "  ('detective', 32),\n",
       "  ('money', 30),\n",
       "  ('revenge', 29),\n",
       "  ('friend', 26)],\n",
       " 'documentary': [('interview', 5),\n",
       "  ('band', 4),\n",
       "  ('new york city', 4),\n",
       "  ('three word title', 4),\n",
       "  ('basketball', 3),\n",
       "  ('character name in title', 3),\n",
       "  ('concert footage', 3),\n",
       "  ('3d in title', 2),\n",
       "  ('american politics', 2),\n",
       "  ('artist', 2)],\n",
       " 'drama': [('love', 125),\n",
       "  ('friend', 100),\n",
       "  ('murder', 71),\n",
       "  ('death', 70),\n",
       "  ('police', 58),\n",
       "  ('friendship', 51),\n",
       "  ('school', 49),\n",
       "  ('new york city', 46),\n",
       "  ('high school', 41),\n",
       "  ('boy', 38)],\n",
       " 'family': [('dog', 25),\n",
       "  ('christmas', 19),\n",
       "  ('boy', 17),\n",
       "  ('friend', 15),\n",
       "  ('magic', 14),\n",
       "  ('school', 14),\n",
       "  ('love', 12),\n",
       "  ('cat', 10),\n",
       "  ('girl', 10),\n",
       "  ('alien', 8)],\n",
       " 'fantasy': [('death', 20),\n",
       "  ('love', 19),\n",
       "  ('magic', 19),\n",
       "  ('vampire', 19),\n",
       "  ('king', 15),\n",
       "  ('battle', 13),\n",
       "  ('ghost', 13),\n",
       "  ('warrior', 12),\n",
       "  ('wizard', 11),\n",
       "  ('doctor', 9)],\n",
       " 'film-noir': [('murder', 2),\n",
       "  ('amnesia', 1),\n",
       "  ('dream analysis', 1),\n",
       "  ('dream sequence', 1),\n",
       "  ('editor', 1),\n",
       "  ('gangster', 1),\n",
       "  ('guilt complex', 1),\n",
       "  ('hitchcockian', 1),\n",
       "  ('husband murders wife', 1),\n",
       "  ('law partner', 1)],\n",
       " 'game-show': [('bachelor', 1),\n",
       "  ('seeking love', 1),\n",
       "  ('single guy', 1),\n",
       "  ('tv host', 1),\n",
       "  ('women rivals for man', 1)],\n",
       " 'history': [('president', 7),\n",
       "  ('general', 6),\n",
       "  ('battle', 5),\n",
       "  ('china', 5),\n",
       "  ('king', 5),\n",
       "  ('nazi', 5),\n",
       "  ('18th century', 4),\n",
       "  ('army', 4),\n",
       "  ('catholic', 4),\n",
       "  ('civil rights', 4)],\n",
       " 'horror': [('murder', 31),\n",
       "  ('death', 29),\n",
       "  ('vampire', 24),\n",
       "  ('serial killer', 21),\n",
       "  ('zombie', 20),\n",
       "  ('alien', 19),\n",
       "  ('blood', 18),\n",
       "  ('demon', 15),\n",
       "  ('ghost', 13),\n",
       "  ('female nudity', 12)],\n",
       " 'music': [('singer', 24),\n",
       "  ('band', 14),\n",
       "  ('love', 13),\n",
       "  ('dance', 10),\n",
       "  ('new york city', 10),\n",
       "  ('concert', 9),\n",
       "  ('dancer', 9),\n",
       "  ('musician', 9),\n",
       "  ('drugs', 8),\n",
       "  ('friend', 8)],\n",
       " 'musical': [('love', 11),\n",
       "  ('singer', 6),\n",
       "  ('dance', 5),\n",
       "  ('song', 4),\n",
       "  ('dancer', 3),\n",
       "  ('new york city', 3),\n",
       "  ('a cappella', 2),\n",
       "  ('based on stage musical', 2),\n",
       "  ('chicken', 2),\n",
       "  ('chorus girl', 2)],\n",
       " 'mystery': [('murder', 49),\n",
       "  ('death', 26),\n",
       "  ('police', 20),\n",
       "  ('serial killer', 20),\n",
       "  ('detective', 14),\n",
       "  ('fbi', 14),\n",
       "  ('secret', 12),\n",
       "  ('boy', 10),\n",
       "  ('friend', 10),\n",
       "  ('memory', 9)],\n",
       " 'news': [('capitalism', 1),\n",
       "  ('critique of capitalism', 1),\n",
       "  ('investment bank', 1),\n",
       "  ('market economy', 1),\n",
       "  ('plutocracy', 1),\n",
       "  ('two word title', 1)],\n",
       " 'reality-tv': [('bachelor', 1),\n",
       "  ('lifestyle', 1),\n",
       "  ('seeking love', 1),\n",
       "  ('single guy', 1),\n",
       "  ('tv host', 1),\n",
       "  ('women rivals for man', 1)],\n",
       " 'romance': [('love', 107),\n",
       "  ('friend', 47),\n",
       "  ('marriage', 34),\n",
       "  ('wedding', 32),\n",
       "  ('new york city', 28),\n",
       "  ('sex', 25),\n",
       "  ('high school', 24),\n",
       "  ('best friend', 23),\n",
       "  ('death', 23),\n",
       "  ('female protagonist', 21)],\n",
       " 'sci-fi': [('alien', 56),\n",
       "  ('future', 31),\n",
       "  ('scientist', 15),\n",
       "  ('planet', 13),\n",
       "  ('time travel', 13),\n",
       "  ('robot', 12),\n",
       "  ('escape', 10),\n",
       "  ('outer space', 10),\n",
       "  ('post apocalypse', 10),\n",
       "  ('superhero', 10)],\n",
       " 'short': [('3d in title', 1),\n",
       "  ('alien', 1),\n",
       "  ('animal in title', 1),\n",
       "  ('digit in title', 1),\n",
       "  ('dolphin', 1),\n",
       "  ('flight attendant', 1),\n",
       "  ('lesbian', 1),\n",
       "  ('manatee', 1),\n",
       "  ('mockumentary', 1),\n",
       "  ('monster', 1)],\n",
       " 'sport': [('coach', 19),\n",
       "  ('high school', 11),\n",
       "  ('football', 10),\n",
       "  ('baseball', 8),\n",
       "  ('basketball', 7),\n",
       "  ('boxing', 7),\n",
       "  ('soccer', 7),\n",
       "  ('boxer', 4),\n",
       "  ('fight', 4),\n",
       "  ('football team', 4)],\n",
       " 'thriller': [('murder', 53),\n",
       "  ('death', 33),\n",
       "  ('police', 28),\n",
       "  ('revenge', 27),\n",
       "  ('terrorist', 23),\n",
       "  ('serial killer', 20),\n",
       "  ('cia', 18),\n",
       "  ('fbi', 17),\n",
       "  ('money', 17),\n",
       "  ('assassin', 16)],\n",
       " 'war': [('soldier', 7),\n",
       "  ('battle', 6),\n",
       "  ('army', 5),\n",
       "  ('friend', 5),\n",
       "  ('general', 5),\n",
       "  ('love', 4),\n",
       "  ('nurse', 4),\n",
       "  ('world war one', 4),\n",
       "  ('world war two', 4),\n",
       "  ('afghanistan', 3)],\n",
       " 'western': [('outlaw', 6),\n",
       "  ('cowboy', 4),\n",
       "  ('horse', 4),\n",
       "  ('sheriff', 4),\n",
       "  ('texas', 4),\n",
       "  ('mexico', 3),\n",
       "  ('revenge', 3),\n",
       "  ('apache', 2),\n",
       "  ('civil war', 2),\n",
       "  ('murder', 2)]}"
      ]
     },
     "execution_count": 13,
     "metadata": {},
     "output_type": "execute_result"
    }
   ],
   "source": [
    "top_10_list"
   ]
  },
  {
   "cell_type": "code",
   "execution_count": 29,
   "metadata": {},
   "outputs": [
    {
     "data": {
      "text/plain": [
       "[Text(0,0,'death'),\n",
       " Text(0,0,'rescue'),\n",
       " Text(0,0,'prison'),\n",
       " Text(0,0,'assassin'),\n",
       " Text(0,0,'terrorist'),\n",
       " Text(0,0,'fbi'),\n",
       " Text(0,0,'battle'),\n",
       " Text(0,0,'alien'),\n",
       " Text(0,0,'murder'),\n",
       " Text(0,0,'police')]"
      ]
     },
     "execution_count": 29,
     "metadata": {},
     "output_type": "execute_result"
    },
    {
     "data": {
      "text/plain": [
       "<matplotlib.figure.Figure at 0x1eb66bc1f60>"
      ]
     },
     "metadata": {},
     "output_type": "display_data"
    },
    {
     "data": {
      "image/png": "[encoded data removed]",
      "text/plain": [
       "<matplotlib.figure.Figure at 0x1eb66bf9ef0>"
      ]
     },
     "metadata": {},
     "output_type": "display_data"
    }
   ],
   "source": [
    "import matplotlib.pyplot as plt\n",
    "\n",
    "plt.figure()\n",
    "action = top_10_list['action']\n",
    "df = pd.DataFrame(action, columns=[\"keyword\", \"count\"])\n",
    "df = df[::-1]\n",
    "ax = df.plot(yticks=df.index, kind=\"barh\")\n",
    "ax.set_yticklabels(df.keyword)"
   ]
  },
  {
   "cell_type": "code",
   "execution_count": 71,
   "metadata": {},
   "outputs": [
    {
     "data": {
      "image/png": "[encoded data removed]",
      "text/plain": [
       "<matplotlib.figure.Figure at 0x1eb68a06d30>"
      ]
     },
     "metadata": {},
     "output_type": "display_data"
    }
   ],
   "source": [
    "import matplotlib.pyplot as plt\n",
    "\n",
    "nrows = 6\n",
    "ncols = 5\n",
    "f, axis = plt.subplots(nrows=nrows, ncols=ncols)\n",
    "\n",
    "row = 0\n",
    "col = 0\n",
    "for genre in keyword_total.keys():\n",
    "    action = top_10_list[genre]\n",
    "    df = pd.DataFrame(action, columns=[\"keyword\", \"count\"])\n",
    "    df = df[::-1]\n",
    "    ax = df.plot(yticks=df.index, kind=\"barh\", ax=axis[row][col], title=genre, legend=False)\n",
    "    ax.set_yticklabels(df.keyword)\n",
    "    if col == ncols - 1:\n",
    "        col = 0\n",
    "        row = row + 1\n",
    "    else:\n",
    "        col = col + 1\n",
    "plt.tight_layout()"
   ]
  },
  {
   "cell_type": "code",
   "execution_count": 87,
   "metadata": {
    "collapsed": true
   },
   "outputs": [],
   "source": [
    "s = pd.Series(results)"
   ]
  },
  {
   "cell_type": "code",
   "execution_count": 88,
   "metadata": {},
   "outputs": [
    {
     "data": {
      "text/plain": [
       "<matplotlib.axes._subplots.AxesSubplot at 0x1e5e51a9908>"
      ]
     },
     "execution_count": 88,
     "metadata": {},
     "output_type": "execute_result"
    },
    {
     "data": {
      "image/png": "[encoded data removed]",
      "text/plain": [
       "<matplotlib.figure.Figure at 0x1e5e51b7358>"
      ]
     },
     "metadata": {},
     "output_type": "display_data"
    }
   ],
   "source": [
    "s.plot(style='k--')\n",
    "s.ewm(span=5).mean().plot(style='k', "
   ]
  },
  {
   "cell_type": "code",
   "execution_count": null,
   "metadata": {
    "collapsed": true
   },
   "outputs": [],
   "source": []
  }
 ],
 "metadata": {
  "kernelspec": {
   "display_name": "Python 3",
   "language": "python",
   "name": "python3"
  },
  "language_info": {
   "codemirror_mode": {
    "name": "ipython",
    "version": 3
   },
   "file_extension": ".py",
   "mimetype": "text/x-python",
   "name": "python",
   "nbconvert_exporter": "python",
   "pygments_lexer": "ipython3",
   "version": "3.6.3"
  }
 },
 "nbformat": 4,
 "nbformat_minor": 2
}
